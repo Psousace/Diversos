{
  "cells": [
    {
      "cell_type": "markdown",
      "metadata": {
        "id": "view-in-github",
        "colab_type": "text"
      },
      "source": [
        "<a href=\"https://colab.research.google.com/github/Psousace/Diversos/blob/main/mt5_cotacoes_tempo_real.ipynb\" target=\"_parent\"><img src=\"https://colab.research.google.com/assets/colab-badge.svg\" alt=\"Open In Colab\"/></a>"
      ]
    },
    {
      "cell_type": "code",
      "execution_count": null,
      "metadata": {
        "id": "7cws6G6MPq8m"
      },
      "outputs": [],
      "source": [
        "!pip install MetaTrader5"
      ]
    },
    {
      "cell_type": "code",
      "execution_count": null,
      "metadata": {
        "id": "6ON-VaL5Pq8o"
      },
      "outputs": [],
      "source": [
        "import MetaTrader5 as mt5\n",
        "import time"
      ]
    },
    {
      "cell_type": "markdown",
      "metadata": {
        "id": "ylvT0R2tPq8p"
      },
      "source": [
        "# Abrindo o metatrader"
      ]
    },
    {
      "cell_type": "code",
      "execution_count": null,
      "metadata": {
        "id": "AJBeUVhIPq8r"
      },
      "outputs": [],
      "source": [
        "mt5.initialize()"
      ]
    },
    {
      "cell_type": "markdown",
      "metadata": {
        "id": "QbkXaixLPq8s"
      },
      "source": [
        "# Pegando os símbolos disponíveis"
      ]
    },
    {
      "cell_type": "code",
      "execution_count": null,
      "metadata": {
        "id": "6xXWrA-aPq8s"
      },
      "outputs": [],
      "source": [
        "simbolos = mt5.symbols_get()\n",
        "\n",
        "len(simbolos)"
      ]
    },
    {
      "cell_type": "code",
      "execution_count": null,
      "metadata": {
        "id": "32z-mDsHPq8t"
      },
      "outputs": [],
      "source": [
        "for ticker in simbolos:\n",
        "\n",
        "    print(ticker.name)"
      ]
    },
    {
      "cell_type": "markdown",
      "metadata": {
        "id": "ylLgmLsKPq8t"
      },
      "source": [
        "# Selecionando o símbolo"
      ]
    },
    {
      "cell_type": "code",
      "execution_count": null,
      "metadata": {
        "id": "TYIak4-1Pq8u"
      },
      "outputs": [],
      "source": [
        "mt5.symbol_select(\"WEGE3\")"
      ]
    },
    {
      "cell_type": "markdown",
      "metadata": {
        "id": "aEAZu_CfPq8v"
      },
      "source": [
        "# Pegando cotações"
      ]
    },
    {
      "cell_type": "code",
      "execution_count": null,
      "metadata": {
        "id": "5tDEa7m0Pq8v"
      },
      "outputs": [],
      "source": [
        "tick = mt5.symbol_info_tick(\"PETR4\")\n",
        "\n",
        "print(tick)"
      ]
    },
    {
      "cell_type": "code",
      "execution_count": null,
      "metadata": {
        "id": "FV-ijNOfPq8v"
      },
      "outputs": [],
      "source": [
        "tempo = time.time() + 10\n",
        "\n",
        "while time.time() < tempo:\n",
        "\n",
        "    time.sleep(1)\n",
        "    tick = mt5.symbol_info_tick(\"WINJ23\")\n",
        "    print(f\"O fechamento é {tick.last}\")\n",
        "    print(f\"Valor de compra: {tick.ask}\")\n",
        "    print(f\"Valor de venda: {tick.bid}\")\n",
        "    print(\"----------------------------\")"
      ]
    },
    {
      "cell_type": "code",
      "execution_count": null,
      "metadata": {
        "id": "AIML0eY5Pq8w"
      },
      "outputs": [],
      "source": []
    },
    {
      "cell_type": "code",
      "execution_count": null,
      "metadata": {
        "id": "KQlfTDXTPq8w"
      },
      "outputs": [],
      "source": []
    },
    {
      "cell_type": "code",
      "execution_count": null,
      "metadata": {
        "id": "Y3ZyeWsgPq8w"
      },
      "outputs": [],
      "source": []
    },
    {
      "cell_type": "code",
      "execution_count": null,
      "metadata": {
        "id": "iD4vS3HuPq8w"
      },
      "outputs": [],
      "source": []
    },
    {
      "cell_type": "code",
      "execution_count": null,
      "metadata": {
        "id": "bjB91-xgPq8w"
      },
      "outputs": [],
      "source": []
    },
    {
      "cell_type": "code",
      "execution_count": null,
      "metadata": {
        "id": "ME1VAV6EPq8w"
      },
      "outputs": [],
      "source": []
    },
    {
      "cell_type": "code",
      "execution_count": null,
      "metadata": {
        "id": "zAK1rDe-Pq8w"
      },
      "outputs": [],
      "source": []
    }
  ],
  "metadata": {
    "kernelspec": {
      "display_name": "Python 3 (ipykernel)",
      "language": "python",
      "name": "python3"
    },
    "language_info": {
      "codemirror_mode": {
        "name": "ipython",
        "version": 3
      },
      "file_extension": ".py",
      "mimetype": "text/x-python",
      "name": "python",
      "nbconvert_exporter": "python",
      "pygments_lexer": "ipython3",
      "version": "3.9.12"
    },
    "colab": {
      "provenance": [],
      "include_colab_link": true
    }
  },
  "nbformat": 4,
  "nbformat_minor": 0
}