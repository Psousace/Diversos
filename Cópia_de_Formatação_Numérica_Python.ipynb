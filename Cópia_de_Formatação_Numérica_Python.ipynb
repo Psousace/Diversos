{
  "cells": [
    {
      "cell_type": "markdown",
      "metadata": {
        "id": "view-in-github",
        "colab_type": "text"
      },
      "source": [
        "<a href=\"https://colab.research.google.com/github/Psousace/Diversos/blob/main/C%C3%B3pia_de_Formata%C3%A7%C3%A3o_Num%C3%A9rica_Python.ipynb\" target=\"_parent\"><img src=\"https://colab.research.google.com/assets/colab-badge.svg\" alt=\"Open In Colab\"/></a>"
      ]
    },
    {
      "cell_type": "markdown",
      "metadata": {
        "id": "1uvJzybySGyQ"
      },
      "source": [
        "# Formatação Numérica no Python\n",
        "\n",
        "### Padrão:\n",
        "    - Ponto separador de decimal"
      ]
    },
    {
      "cell_type": "code",
      "execution_count": null,
      "metadata": {
        "id": "ISjDHgBoSGyX",
        "colab": {
          "base_uri": "https://localhost:8080/"
        },
        "outputId": "ce912547-a63a-47b2-de72-6b47ff6693d3"
      },
      "outputs": [
        {
          "output_type": "stream",
          "name": "stdout",
          "text": [
            "O lucro foi de R$1000\n"
          ]
        }
      ],
      "source": [
        "faturamento = 1500\n",
        "custo = 500\n",
        "lucro = faturamento - custo\n",
        "lc = print(f'O lucro foi de R${lucro}')\n",
        "lc"
      ]
    },
    {
      "cell_type": "code",
      "source": [
        "lc = print(f'O lucro foi de R${lucro:,.2f}')\n",
        "lc"
      ],
      "metadata": {
        "colab": {
          "base_uri": "https://localhost:8080/"
        },
        "id": "56xVQczTT3EZ",
        "outputId": "d16925b4-1bd4-4da0-ca0e-102f17724419"
      },
      "execution_count": null,
      "outputs": [
        {
          "output_type": "stream",
          "name": "stdout",
          "text": [
            "O lucro foi de R$1,000.00\n"
          ]
        }
      ]
    },
    {
      "cell_type": "code",
      "execution_count": null,
      "metadata": {
        "id": "IhPbRFkrSGyZ",
        "colab": {
          "base_uri": "https://localhost:8080/"
        },
        "outputId": "c5f2de18-5062-4c61-edc4-eb3e37c4e408"
      },
      "outputs": [
        {
          "output_type": "stream",
          "name": "stdout",
          "text": [
            "A margem foi de 0.67\n"
          ]
        }
      ],
      "source": [
        "margem = lucro / faturamento\n",
        "m = print(f'A margem foi de {margem:.2f}')\n",
        "m"
      ]
    },
    {
      "cell_type": "code",
      "source": [
        "margem = lucro / faturamento\n",
        "m = print(f'A margem foi de {margem:.2%}')\n",
        "m"
      ],
      "metadata": {
        "colab": {
          "base_uri": "https://localhost:8080/"
        },
        "id": "mcJHDULoXDAt",
        "outputId": "129f2a02-0b78-48b4-d240-535bfb55316c"
      },
      "execution_count": null,
      "outputs": [
        {
          "output_type": "stream",
          "name": "stdout",
          "text": [
            "A margem foi de 66.67%\n"
          ]
        }
      ]
    },
    {
      "cell_type": "markdown",
      "metadata": {
        "id": "YUH6kt36SGya"
      },
      "source": [
        "- E se eu quiser a moeda no formato brasileiro?"
      ]
    },
    {
      "cell_type": "code",
      "execution_count": null,
      "metadata": {
        "id": "joAJirBCSGya",
        "colab": {
          "base_uri": "https://localhost:8080/"
        },
        "outputId": "5405f5fd-18ea-4d12-bd74-1822497d3178"
      },
      "outputs": [
        {
          "output_type": "stream",
          "name": "stdout",
          "text": [
            "o lucro foi de R$1.000,00\n"
          ]
        }
      ],
      "source": [
        "texto_lucro = f'R${lucro:_.2f}'\n",
        "texto_lucro = texto_lucro.replace('.', ',').replace('_', '.')\n",
        "print(f'o lucro foi de {texto_lucro}')"
      ]
    }
  ],
  "metadata": {
    "kernelspec": {
      "display_name": "Python 3",
      "language": "python",
      "name": "python3"
    },
    "language_info": {
      "codemirror_mode": {
        "name": "ipython",
        "version": 3
      },
      "file_extension": ".py",
      "mimetype": "text/x-python",
      "name": "python",
      "nbconvert_exporter": "python",
      "pygments_lexer": "ipython3",
      "version": "3.8.5"
    },
    "colab": {
      "provenance": [],
      "include_colab_link": true
    }
  },
  "nbformat": 4,
  "nbformat_minor": 0
}