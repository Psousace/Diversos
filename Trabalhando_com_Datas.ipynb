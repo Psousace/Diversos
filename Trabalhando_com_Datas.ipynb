{
  "nbformat": 4,
  "nbformat_minor": 0,
  "metadata": {
    "colab": {
      "provenance": [],
      "authorship_tag": "ABX9TyPpJy4KianZko7gpWmrpogt",
      "include_colab_link": true
    },
    "kernelspec": {
      "name": "python3",
      "display_name": "Python 3"
    },
    "language_info": {
      "name": "python"
    }
  },
  "cells": [
    {
      "cell_type": "markdown",
      "metadata": {
        "id": "view-in-github",
        "colab_type": "text"
      },
      "source": [
        "<a href=\"https://colab.research.google.com/github/Psousace/Diversos/blob/main/Trabalhando_com_Datas.ipynb\" target=\"_parent\"><img src=\"https://colab.research.google.com/assets/colab-badge.svg\" alt=\"Open In Colab\"/></a>"
      ]
    },
    {
      "cell_type": "markdown",
      "source": [
        "### Trabalhando com Datas\n",
        "### Link Video: https://www.youtube.com/watch?v=A7S_RwWcrK0&t=465s\n",
        "### Informações: https://docs.python.org/pt-br/3/library/datetime.html#timedelta-objects"
      ],
      "metadata": {
        "id": "JiBboSAc2mJy"
      }
    },
    {
      "cell_type": "code",
      "execution_count": 10,
      "metadata": {
        "id": "wI8khNJY1cCu"
      },
      "outputs": [],
      "source": [
        "from datetime import datetime, timedelta"
      ]
    },
    {
      "cell_type": "code",
      "source": [
        "#Data\n",
        "hoje = datetime.now()\n",
        "print(hoje)\n",
        "print(hoje.date())\n",
        "print(hoje.day)\n",
        "print(hoje.month)\n",
        "print(hoje.year)"
      ],
      "metadata": {
        "colab": {
          "base_uri": "https://localhost:8080/"
        },
        "id": "tg_vKrC1134w",
        "outputId": "5e37dff9-82fb-49e3-d67f-542664deeac8"
      },
      "execution_count": 9,
      "outputs": [
        {
          "output_type": "stream",
          "name": "stdout",
          "text": [
            "2023-09-06 00:22:07.835128\n",
            "2023-09-06\n",
            "6\n",
            "9\n",
            "2023\n"
          ]
        }
      ]
    },
    {
      "cell_type": "code",
      "source": [
        "#Variações de datas\n",
        "amanha = hoje + timedelta(days = 1)\n",
        "amanha = hoje + timedelta(weeks = 1)\n",
        "print(amanha)"
      ],
      "metadata": {
        "colab": {
          "base_uri": "https://localhost:8080/"
        },
        "id": "oMYTD2Mi39pU",
        "outputId": "638cd7d0-1d14-4b1b-8c64-70efe98396d8"
      },
      "execution_count": 13,
      "outputs": [
        {
          "output_type": "stream",
          "name": "stdout",
          "text": [
            "2023-09-13 00:22:07.835128\n"
          ]
        }
      ]
    },
    {
      "cell_type": "code",
      "source": [
        "# Criando datas: Exemplo 01 Setembro 2023\n",
        "data_contrato = datetime(year=2023, month=9, day=1)\n",
        "print(data_contrato.date())"
      ],
      "metadata": {
        "colab": {
          "base_uri": "https://localhost:8080/"
        },
        "id": "TgUmN68j5bzq",
        "outputId": "bc72e8f1-9888-4dc1-a4e1-d4501224f509"
      },
      "execution_count": 22,
      "outputs": [
        {
          "output_type": "stream",
          "name": "stdout",
          "text": [
            "2023-09-01\n"
          ]
        }
      ]
    },
    {
      "cell_type": "code",
      "source": [
        "atraso = hoje - data_contrato\n",
        "print(atraso.days)"
      ],
      "metadata": {
        "colab": {
          "base_uri": "https://localhost:8080/"
        },
        "id": "1f_HLW6771mN",
        "outputId": "f56f9f8a-0aa6-400d-fdb6-6425e56420f1"
      },
      "execution_count": 30,
      "outputs": [
        {
          "output_type": "stream",
          "name": "stdout",
          "text": [
            "5\n"
          ]
        }
      ]
    },
    {
      "cell_type": "code",
      "source": [
        "# Datas em outros formatos\n",
        "data_contrato = '01/09/2023'\n",
        "\n",
        "#Transformando formato:\n",
        "data_contrato = datetime.strptime(data_contrato, '%d/%m/%Y')\n",
        "print(data_contrato.date())"
      ],
      "metadata": {
        "colab": {
          "base_uri": "https://localhost:8080/"
        },
        "id": "tzrXkjpy8pHO",
        "outputId": "f8e32870-89af-4ae8-b8c7-e5fd9b1d0579"
      },
      "execution_count": 39,
      "outputs": [
        {
          "output_type": "stream",
          "name": "stdout",
          "text": [
            "2023-09-01\n"
          ]
        }
      ]
    },
    {
      "cell_type": "code",
      "source": [
        "# Formato Brasil\n",
        "print(hoje.strftime('%d/%m/%Y'))\n"
      ],
      "metadata": {
        "colab": {
          "base_uri": "https://localhost:8080/"
        },
        "id": "cAVpYtZn-fV3",
        "outputId": "e67179a1-d625-49fa-dde7-8d4b49e4ed5d"
      },
      "execution_count": 40,
      "outputs": [
        {
          "output_type": "stream",
          "name": "stdout",
          "text": [
            "06/09/2023\n"
          ]
        }
      ]
    }
  ]
}